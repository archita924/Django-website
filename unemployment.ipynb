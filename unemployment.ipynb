{
  "nbformat": 4,
  "nbformat_minor": 0,
  "metadata": {
    "colab": {
      "provenance": [],
      "authorship_tag": "ABX9TyOEzN4EHkTtJdmNxKERSjvQ",
      "include_colab_link": true
    },
    "kernelspec": {
      "name": "python3",
      "display_name": "Python 3"
    },
    "language_info": {
      "name": "python"
    }
  },
  "cells": [
    {
      "cell_type": "markdown",
      "metadata": {
        "id": "view-in-github",
        "colab_type": "text"
      },
      "source": [
        "<a href=\"https://colab.research.google.com/github/archita924/Django-website/blob/master/unemployment.ipynb\" target=\"_parent\"><img src=\"https://colab.research.google.com/assets/colab-badge.svg\" alt=\"Open In Colab\"/></a>"
      ]
    },
    {
      "cell_type": "code",
      "execution_count": null,
      "metadata": {
        "id": "t-iAwSAbTKNv"
      },
      "outputs": [],
      "source": [
        "# Part 0: Reading the data\n",
        "\n",
        "# ● Please find the data (unemployment_analysis.csv) and take it as the input ( as data frame ).\n",
        "# ● For all columns (having years), convert the strings into floats. (for e.g., 6.8 lacs  6.8)\n",
        "# ● Display the column names along with their datatypes.\n",
        "# ● Generate the unique country names along with their corresponding country code.\n",
        "# ● Find total unemployed people for all the years for each country."
      ]
    },
    {
      "cell_type": "code",
      "source": [
        "# Code you have previously used to load data\n",
        "import pandas as pd\n",
        "\n",
        "# Path of the file to read\n",
        "iowa_file_path = '/content/unemployment_analysis.csv'\n",
        "unemployment_data = pd.read_csv(iowa_file_path)\n",
        "\n",
        "# Set up code checking\n",
        "\n",
        "print(\"Setup Complete\")"
      ],
      "metadata": {
        "colab": {
          "base_uri": "https://localhost:8080/"
        },
        "id": "tmIK7HFXgykF",
        "outputId": "bfc59cf2-9f97-444a-f2cf-ca4b7aa3f09a"
      },
      "execution_count": 5,
      "outputs": [
        {
          "output_type": "stream",
          "name": "stdout",
          "text": [
            "Setup Complete\n"
          ]
        }
      ]
    },
    {
      "cell_type": "code",
      "source": [
        "y=unemployment_data.describe()\n",
        "print(y)\n",
        "\n",
        "df = pd.DataFrame(unemployment_data)\n",
        "print(df)"
      ],
      "metadata": {
        "colab": {
          "base_uri": "https://localhost:8080/"
        },
        "id": "ZjAex2eenUgz",
        "outputId": "3e710289-52ff-4116-e30a-c3a3796f51da"
      },
      "execution_count": 26,
      "outputs": [
        {
          "output_type": "stream",
          "name": "stdout",
          "text": [
            "                       Country Name Country Code      1991       1992  \\\n",
            "count                           235          235       235        235   \n",
            "unique                          235          235       216        207   \n",
            "top     Africa Eastern and Southern          AFE  1.9 lacs  4.99 lacs   \n",
            "freq                              1            1         4          3   \n",
            "\n",
            "            1993       1994       1995      1996       1997      1998  ...  \\\n",
            "count        235        235        235       235        235       235  ...   \n",
            "unique       210        214        213       217        217       212  ...   \n",
            "top     6.6 lacs  6.59 lacs  5.63 lacs  6.6 lacs  6.63 lacs  2.9 lacs  ...   \n",
            "freq           4          3          3         3          3         3  ...   \n",
            "\n",
            "             2012       2013        2014       2015      2016       2017  \\\n",
            "count         235        235         235        234       235        235   \n",
            "unique        212        216         215        216       219        206   \n",
            "top     5.85 lacs  5.71 lacs  10.85 lacs  5.82 lacs  5.9 lacs  6.47 lacs   \n",
            "freq            3          3           3          3         3          3   \n",
            "\n",
            "             2018       2019       2020       2021  \n",
            "count         235        235        235        235  \n",
            "unique        217        208        218        217  \n",
            "top     6.48 lacs  4.45 lacs  7.28 lacs  7.66 lacs  \n",
            "freq            3          4          3          3  \n",
            "\n",
            "[4 rows x 33 columns]\n",
            "                    Country Name Country Code        1991        1992  \\\n",
            "0    Africa Eastern and Southern          AFE    7.8 lacs   7.84 lacs   \n",
            "1                    Afghanistan          AFG  10.65 lacs  10.82 lacs   \n",
            "2     Africa Western and Central          AFW   4.42 lacs   4.53 lacs   \n",
            "3                         Angola          AGO   4.21 lacs   4.21 lacs   \n",
            "4                        Albania          ALB  10.31 lacs  30.01 lacs   \n",
            "..                           ...          ...         ...         ...   \n",
            "230                        Samoa          WSM    2.1 lacs   2.38 lacs   \n",
            "231                  Yemen, Rep.          YEM   8.32 lacs   8.31 lacs   \n",
            "232                 South Africa          ZAF  29.95 lacs  29.98 lacs   \n",
            "233                       Zambia          ZMB   18.9 lacs  19.37 lacs   \n",
            "234                     Zimbabwe          ZWE   4.94 lacs   4.99 lacs   \n",
            "\n",
            "           1993        1994        1995        1996        1997        1998  \\\n",
            "0     7.85 lacs   7.84 lacs   7.83 lacs   7.84 lacs   7.86 lacs   7.81 lacs   \n",
            "1    10.72 lacs  10.73 lacs  11.18 lacs  10.96 lacs  10.78 lacs   10.8 lacs   \n",
            "2     4.55 lacs   4.54 lacs   4.53 lacs   4.57 lacs    4.6 lacs   4.66 lacs   \n",
            "3     4.23 lacs   4.16 lacs   4.11 lacs    4.1 lacs   4.09 lacs   4.07 lacs   \n",
            "4    25.26 lacs  20.84 lacs  14.61 lacs  13.93 lacs  16.88 lacs  20.05 lacs   \n",
            "..          ...         ...         ...         ...         ...         ...   \n",
            "230   2.63 lacs   3.04 lacs   3.19 lacs   3.47 lacs    3.9 lacs   4.18 lacs   \n",
            "231   8.35 lacs   8.34 lacs   8.96 lacs   9.59 lacs   10.2 lacs  10.81 lacs   \n",
            "232  29.92 lacs  29.89 lacs  29.89 lacs  29.87 lacs  29.91 lacs  29.95 lacs   \n",
            "233   19.7 lacs  18.43 lacs  16.81 lacs   15.3 lacs  13.64 lacs     12 lacs   \n",
            "234   4.97 lacs   4.96 lacs   5.63 lacs   6.25 lacs   6.93 lacs   6.46 lacs   \n",
            "\n",
            "     ...        2012        2013        2014        2015        2016  \\\n",
            "0    ...   6.56 lacs   6.45 lacs   6.41 lacs   6.49 lacs   6.61 lacs   \n",
            "1    ...  11.34 lacs  11.19 lacs  11.14 lacs  11.13 lacs  11.16 lacs   \n",
            "2    ...   4.64 lacs   4.41 lacs   4.69 lacs   4.63 lacs   5.57 lacs   \n",
            "3    ...   7.35 lacs   7.37 lacs   7.37 lacs   7.39 lacs   7.41 lacs   \n",
            "4    ...  13.38 lacs  15.87 lacs  18.05 lacs  17.19 lacs  15.42 lacs   \n",
            "..   ...         ...         ...         ...         ...         ...   \n",
            "230  ...   8.75 lacs   8.67 lacs   8.72 lacs    8.5 lacs   8.31 lacs   \n",
            "231  ...  13.17 lacs  13.27 lacs  13.47 lacs  13.77 lacs  13.43 lacs   \n",
            "232  ...  24.73 lacs  24.56 lacs  24.89 lacs  25.15 lacs  26.54 lacs   \n",
            "233  ...   7.85 lacs   8.61 lacs   9.36 lacs  10.13 lacs  10.87 lacs   \n",
            "234  ...   5.15 lacs   4.98 lacs   4.77 lacs   4.78 lacs   4.79 lacs   \n",
            "\n",
            "           2017        2018        2019        2020        2021  \n",
            "0     6.71 lacs   6.73 lacs   6.91 lacs   7.56 lacs   8.11 lacs  \n",
            "1    11.18 lacs  11.15 lacs  11.22 lacs  11.71 lacs  13.28 lacs  \n",
            "2     6.02 lacs   6.04 lacs   6.06 lacs   6.77 lacs   6.84 lacs  \n",
            "3     7.41 lacs   7.42 lacs   7.42 lacs   8.33 lacs   8.53 lacs  \n",
            "4    13.62 lacs   12.3 lacs  11.47 lacs  13.33 lacs  11.82 lacs  \n",
            "..          ...         ...         ...         ...         ...  \n",
            "230   8.58 lacs   8.69 lacs   8.41 lacs   9.15 lacs   9.84 lacs  \n",
            "231   13.3 lacs  13.15 lacs  13.06 lacs  13.39 lacs  13.57 lacs  \n",
            "232  27.04 lacs  26.91 lacs  28.47 lacs  29.22 lacs  33.56 lacs  \n",
            "233  11.63 lacs  12.01 lacs  12.52 lacs  12.85 lacs  13.03 lacs  \n",
            "234   4.78 lacs    4.8 lacs   4.83 lacs   5.35 lacs   5.17 lacs  \n",
            "\n",
            "[235 rows x 33 columns]\n"
          ]
        }
      ]
    },
    {
      "cell_type": "code",
      "source": [
        "print(df.dtypes)"
      ],
      "metadata": {
        "colab": {
          "base_uri": "https://localhost:8080/"
        },
        "id": "dyn1zlWsrMjZ",
        "outputId": "9d64c802-e092-4734-87f3-80c92a080794"
      },
      "execution_count": 12,
      "outputs": [
        {
          "output_type": "stream",
          "name": "stdout",
          "text": [
            "Country Name    object\n",
            "Country Code    object\n",
            "1991            object\n",
            "1992            object\n",
            "1993            object\n",
            "1994            object\n",
            "1995            object\n",
            "1996            object\n",
            "1997            object\n",
            "1998            object\n",
            "1999            object\n",
            "2000            object\n",
            "2001            object\n",
            "2002            object\n",
            "2003            object\n",
            "2004            object\n",
            "2005            object\n",
            "2006            object\n",
            "2007            object\n",
            "2008            object\n",
            "2009            object\n",
            "2010            object\n",
            "2011            object\n",
            "2012            object\n",
            "2013            object\n",
            "2014            object\n",
            "2015            object\n",
            "2016            object\n",
            "2017            object\n",
            "2018            object\n",
            "2019            object\n",
            "2020            object\n",
            "2021            object\n",
            "dtype: object\n"
          ]
        }
      ]
    },
    {
      "cell_type": "code",
      "source": [
        "\n",
        "print(df.dtypes)\n",
        "\n",
        "  \n",
        "# show the dataframe\n",
        "print(df)\n",
        "  \n",
        "# show the datatypes\n"
      ],
      "metadata": {
        "colab": {
          "base_uri": "https://localhost:8080/"
        },
        "id": "K2p49jkvr2-d",
        "outputId": "cb8fd2c5-3b68-4b6b-bf4e-975034db4da6"
      },
      "execution_count": 20,
      "outputs": [
        {
          "output_type": "stream",
          "name": "stdout",
          "text": [
            "Country Name    object\n",
            "Country Code    object\n",
            "1991            object\n",
            "1992            object\n",
            "1993            object\n",
            "1994            object\n",
            "1995            object\n",
            "1996            object\n",
            "1997            object\n",
            "1998            object\n",
            "1999            object\n",
            "2000            object\n",
            "2001            object\n",
            "2002            object\n",
            "2003            object\n",
            "2004            object\n",
            "2005            object\n",
            "2006            object\n",
            "2007            object\n",
            "2008            object\n",
            "2009            object\n",
            "2010            object\n",
            "2011            object\n",
            "2012            object\n",
            "2013            object\n",
            "2014            object\n",
            "2015            object\n",
            "2016            object\n",
            "2017            object\n",
            "2018            object\n",
            "2019            object\n",
            "2020            object\n",
            "2021            object\n",
            "dtype: object\n",
            "                    Country Name Country Code        1991        1992  \\\n",
            "0    Africa Eastern and Southern          AFE    7.8 lacs   7.84 lacs   \n",
            "1                    Afghanistan          AFG  10.65 lacs  10.82 lacs   \n",
            "2     Africa Western and Central          AFW   4.42 lacs   4.53 lacs   \n",
            "3                         Angola          AGO   4.21 lacs   4.21 lacs   \n",
            "4                        Albania          ALB  10.31 lacs  30.01 lacs   \n",
            "..                           ...          ...         ...         ...   \n",
            "230                        Samoa          WSM    2.1 lacs   2.38 lacs   \n",
            "231                  Yemen, Rep.          YEM   8.32 lacs   8.31 lacs   \n",
            "232                 South Africa          ZAF  29.95 lacs  29.98 lacs   \n",
            "233                       Zambia          ZMB   18.9 lacs  19.37 lacs   \n",
            "234                     Zimbabwe          ZWE   4.94 lacs   4.99 lacs   \n",
            "\n",
            "           1993        1994        1995        1996        1997        1998  \\\n",
            "0     7.85 lacs   7.84 lacs   7.83 lacs   7.84 lacs   7.86 lacs   7.81 lacs   \n",
            "1    10.72 lacs  10.73 lacs  11.18 lacs  10.96 lacs  10.78 lacs   10.8 lacs   \n",
            "2     4.55 lacs   4.54 lacs   4.53 lacs   4.57 lacs    4.6 lacs   4.66 lacs   \n",
            "3     4.23 lacs   4.16 lacs   4.11 lacs    4.1 lacs   4.09 lacs   4.07 lacs   \n",
            "4    25.26 lacs  20.84 lacs  14.61 lacs  13.93 lacs  16.88 lacs  20.05 lacs   \n",
            "..          ...         ...         ...         ...         ...         ...   \n",
            "230   2.63 lacs   3.04 lacs   3.19 lacs   3.47 lacs    3.9 lacs   4.18 lacs   \n",
            "231   8.35 lacs   8.34 lacs   8.96 lacs   9.59 lacs   10.2 lacs  10.81 lacs   \n",
            "232  29.92 lacs  29.89 lacs  29.89 lacs  29.87 lacs  29.91 lacs  29.95 lacs   \n",
            "233   19.7 lacs  18.43 lacs  16.81 lacs   15.3 lacs  13.64 lacs     12 lacs   \n",
            "234   4.97 lacs   4.96 lacs   5.63 lacs   6.25 lacs   6.93 lacs   6.46 lacs   \n",
            "\n",
            "     ...        2012        2013        2014        2015        2016  \\\n",
            "0    ...   6.56 lacs   6.45 lacs   6.41 lacs   6.49 lacs   6.61 lacs   \n",
            "1    ...  11.34 lacs  11.19 lacs  11.14 lacs  11.13 lacs  11.16 lacs   \n",
            "2    ...   4.64 lacs   4.41 lacs   4.69 lacs   4.63 lacs   5.57 lacs   \n",
            "3    ...   7.35 lacs   7.37 lacs   7.37 lacs   7.39 lacs   7.41 lacs   \n",
            "4    ...  13.38 lacs  15.87 lacs  18.05 lacs  17.19 lacs  15.42 lacs   \n",
            "..   ...         ...         ...         ...         ...         ...   \n",
            "230  ...   8.75 lacs   8.67 lacs   8.72 lacs    8.5 lacs   8.31 lacs   \n",
            "231  ...  13.17 lacs  13.27 lacs  13.47 lacs  13.77 lacs  13.43 lacs   \n",
            "232  ...  24.73 lacs  24.56 lacs  24.89 lacs  25.15 lacs  26.54 lacs   \n",
            "233  ...   7.85 lacs   8.61 lacs   9.36 lacs  10.13 lacs  10.87 lacs   \n",
            "234  ...   5.15 lacs   4.98 lacs   4.77 lacs   4.78 lacs   4.79 lacs   \n",
            "\n",
            "           2017        2018        2019        2020        2021  \n",
            "0     6.71 lacs   6.73 lacs   6.91 lacs   7.56 lacs   8.11 lacs  \n",
            "1    11.18 lacs  11.15 lacs  11.22 lacs  11.71 lacs  13.28 lacs  \n",
            "2     6.02 lacs   6.04 lacs   6.06 lacs   6.77 lacs   6.84 lacs  \n",
            "3     7.41 lacs   7.42 lacs   7.42 lacs   8.33 lacs   8.53 lacs  \n",
            "4    13.62 lacs   12.3 lacs  11.47 lacs  13.33 lacs  11.82 lacs  \n",
            "..          ...         ...         ...         ...         ...  \n",
            "230   8.58 lacs   8.69 lacs   8.41 lacs   9.15 lacs   9.84 lacs  \n",
            "231   13.3 lacs  13.15 lacs  13.06 lacs  13.39 lacs  13.57 lacs  \n",
            "232  27.04 lacs  26.91 lacs  28.47 lacs  29.22 lacs  33.56 lacs  \n",
            "233  11.63 lacs  12.01 lacs  12.52 lacs  12.85 lacs  13.03 lacs  \n",
            "234   4.78 lacs    4.8 lacs   4.83 lacs   5.35 lacs   5.17 lacs  \n",
            "\n",
            "[235 rows x 33 columns]\n"
          ]
        }
      ]
    },
    {
      "cell_type": "code",
      "source": [
        "y=unemployment_data.drop_duplicates()\n",
        "print(y)"
      ],
      "metadata": {
        "colab": {
          "base_uri": "https://localhost:8080/"
        },
        "id": "z08I86db5MLV",
        "outputId": "ad037e87-3843-4c82-c9cb-7e45c7f0f137"
      },
      "execution_count": 25,
      "outputs": [
        {
          "output_type": "stream",
          "name": "stdout",
          "text": [
            "                    Country Name Country Code        1991        1992  \\\n",
            "0    Africa Eastern and Southern          AFE    7.8 lacs   7.84 lacs   \n",
            "1                    Afghanistan          AFG  10.65 lacs  10.82 lacs   \n",
            "2     Africa Western and Central          AFW   4.42 lacs   4.53 lacs   \n",
            "3                         Angola          AGO   4.21 lacs   4.21 lacs   \n",
            "4                        Albania          ALB  10.31 lacs  30.01 lacs   \n",
            "..                           ...          ...         ...         ...   \n",
            "230                        Samoa          WSM    2.1 lacs   2.38 lacs   \n",
            "231                  Yemen, Rep.          YEM   8.32 lacs   8.31 lacs   \n",
            "232                 South Africa          ZAF  29.95 lacs  29.98 lacs   \n",
            "233                       Zambia          ZMB   18.9 lacs  19.37 lacs   \n",
            "234                     Zimbabwe          ZWE   4.94 lacs   4.99 lacs   \n",
            "\n",
            "           1993        1994        1995        1996        1997        1998  \\\n",
            "0     7.85 lacs   7.84 lacs   7.83 lacs   7.84 lacs   7.86 lacs   7.81 lacs   \n",
            "1    10.72 lacs  10.73 lacs  11.18 lacs  10.96 lacs  10.78 lacs   10.8 lacs   \n",
            "2     4.55 lacs   4.54 lacs   4.53 lacs   4.57 lacs    4.6 lacs   4.66 lacs   \n",
            "3     4.23 lacs   4.16 lacs   4.11 lacs    4.1 lacs   4.09 lacs   4.07 lacs   \n",
            "4    25.26 lacs  20.84 lacs  14.61 lacs  13.93 lacs  16.88 lacs  20.05 lacs   \n",
            "..          ...         ...         ...         ...         ...         ...   \n",
            "230   2.63 lacs   3.04 lacs   3.19 lacs   3.47 lacs    3.9 lacs   4.18 lacs   \n",
            "231   8.35 lacs   8.34 lacs   8.96 lacs   9.59 lacs   10.2 lacs  10.81 lacs   \n",
            "232  29.92 lacs  29.89 lacs  29.89 lacs  29.87 lacs  29.91 lacs  29.95 lacs   \n",
            "233   19.7 lacs  18.43 lacs  16.81 lacs   15.3 lacs  13.64 lacs     12 lacs   \n",
            "234   4.97 lacs   4.96 lacs   5.63 lacs   6.25 lacs   6.93 lacs   6.46 lacs   \n",
            "\n",
            "     ...        2012        2013        2014        2015        2016  \\\n",
            "0    ...   6.56 lacs   6.45 lacs   6.41 lacs   6.49 lacs   6.61 lacs   \n",
            "1    ...  11.34 lacs  11.19 lacs  11.14 lacs  11.13 lacs  11.16 lacs   \n",
            "2    ...   4.64 lacs   4.41 lacs   4.69 lacs   4.63 lacs   5.57 lacs   \n",
            "3    ...   7.35 lacs   7.37 lacs   7.37 lacs   7.39 lacs   7.41 lacs   \n",
            "4    ...  13.38 lacs  15.87 lacs  18.05 lacs  17.19 lacs  15.42 lacs   \n",
            "..   ...         ...         ...         ...         ...         ...   \n",
            "230  ...   8.75 lacs   8.67 lacs   8.72 lacs    8.5 lacs   8.31 lacs   \n",
            "231  ...  13.17 lacs  13.27 lacs  13.47 lacs  13.77 lacs  13.43 lacs   \n",
            "232  ...  24.73 lacs  24.56 lacs  24.89 lacs  25.15 lacs  26.54 lacs   \n",
            "233  ...   7.85 lacs   8.61 lacs   9.36 lacs  10.13 lacs  10.87 lacs   \n",
            "234  ...   5.15 lacs   4.98 lacs   4.77 lacs   4.78 lacs   4.79 lacs   \n",
            "\n",
            "           2017        2018        2019        2020        2021  \n",
            "0     6.71 lacs   6.73 lacs   6.91 lacs   7.56 lacs   8.11 lacs  \n",
            "1    11.18 lacs  11.15 lacs  11.22 lacs  11.71 lacs  13.28 lacs  \n",
            "2     6.02 lacs   6.04 lacs   6.06 lacs   6.77 lacs   6.84 lacs  \n",
            "3     7.41 lacs   7.42 lacs   7.42 lacs   8.33 lacs   8.53 lacs  \n",
            "4    13.62 lacs   12.3 lacs  11.47 lacs  13.33 lacs  11.82 lacs  \n",
            "..          ...         ...         ...         ...         ...  \n",
            "230   8.58 lacs   8.69 lacs   8.41 lacs   9.15 lacs   9.84 lacs  \n",
            "231   13.3 lacs  13.15 lacs  13.06 lacs  13.39 lacs  13.57 lacs  \n",
            "232  27.04 lacs  26.91 lacs  28.47 lacs  29.22 lacs  33.56 lacs  \n",
            "233  11.63 lacs  12.01 lacs  12.52 lacs  12.85 lacs  13.03 lacs  \n",
            "234   4.78 lacs    4.8 lacs   4.83 lacs   5.35 lacs   5.17 lacs  \n",
            "\n",
            "[235 rows x 33 columns]\n"
          ]
        }
      ]
    },
    {
      "cell_type": "code",
      "source": [],
      "metadata": {
        "id": "sReQG41k4Tte"
      },
      "execution_count": null,
      "outputs": []
    },
    {
      "cell_type": "code",
      "source": [],
      "metadata": {
        "id": "fjad17n93nOt"
      },
      "execution_count": null,
      "outputs": []
    },
    {
      "cell_type": "code",
      "source": [],
      "metadata": {
        "id": "SDN1UWM_2wp6"
      },
      "execution_count": null,
      "outputs": []
    },
    {
      "cell_type": "code",
      "source": [],
      "metadata": {
        "id": "a7BB82ut0Z8o"
      },
      "execution_count": null,
      "outputs": []
    }
  ]
}